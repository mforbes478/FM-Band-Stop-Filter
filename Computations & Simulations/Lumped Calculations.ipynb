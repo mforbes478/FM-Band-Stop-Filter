{
 "cells": [
  {
   "attachments": {},
   "cell_type": "markdown",
   "metadata": {},
   "source": [
    "### 3 Pole, Equal Ripple (0.5dB) Band Stop Filter Calculator\n",
    "As I have recently lost my ADS license, I was unable to verify the calculator with EM Simulation. However, the calculator is accurate to LTSpice and also Pozar textbook examples."
   ]
  },
  {
   "cell_type": "code",
   "execution_count": 6,
   "metadata": {},
   "outputs": [
    {
     "name": "stdout",
     "output_type": "stream",
     "text": [
      "L1 and C1: 262.37474009287155 nH 1.0697222554003897e-23 pF\n",
      "L2 and C2 18.373181693566487 nH 1.5275965992896902e-22 pF\n",
      "L3 and C3: 262.37474009287155 nH 1.0697222554003897e-23 pF\n"
     ]
    }
   ],
   "source": [
    "import numpy as np\n",
    "import matplotlib.pyplot as plt\n",
    "from cmath import *\n",
    "import PyQt5\n",
    "\n",
    "\n",
    "def BandStop3Pole(f0, delta, fplotLow, fplotHigh):\n",
    "\n",
    "    # Dictionary holding the pre - scaled impedance values for N = 3, 0.5dB equal ripple LPF\n",
    "    Xs = {\n",
    "        'g0': 1.0000,\n",
    "        'g1': 1.5963,\n",
    "        'g2': 1.0967,\n",
    "        'g3': 1.5963,\n",
    "        'g4': 1.0000,\n",
    "    }\n",
    "\n",
    "    # frequency matrices, etc\n",
    "    f = np.linspace(fplotLow, fplotHigh, 1000)\n",
    "    w = 2*pi*f\n",
    "    Z0 = 50\n",
    "    wC = 2*pi*f0\n",
    "    \n",
    "\n",
    "\n",
    "\n",
    "    \"\"\" --- Computing Lumped Element Impedance values from the frequency and impedance scaled equations in Pozar chapter 8 ---\"\"\"\n",
    "    L1 = Z0/(Xs['g1']*wC*delta)\n",
    "    C1 = Xs['g1']*delta/(wC*Z0)\n",
    "    print(\"L1 and C1:\", L1*1e9, \"nH\", C1*1e-12, \"pF\")\n",
    "\n",
    "\n",
    "    L2 = Xs['g2']*delta*Z0/wC\n",
    "    C2 = 1/(wC*Xs['g2']*delta*Z0)\n",
    "    print(\"L2 and C2\", L2*1e9, \"nH\", C2*1e-12, \"pF\")\n",
    "    print(\"L3 and C3:\", L1*1e9, \"nH\", C1*1e-12, \"pF\")\n",
    "\n",
    "\n",
    "    Zsh = 1j*w*L1 + 1/(1j*w*C1)                            #Impedance of the Shunt element\n",
    "    Zser = 1j*w*L2*1/(1j*w*C2) / (1j*w*L2 + 1/(1j*w*C2))   #Impedance of the Series element\n",
    "\n",
    "\n",
    "\n",
    "    \"\"\" --- The ABCD Matrix has been computed by hand for the TL, Filter, and Load ---\"\"\"\n",
    "    #ABCD Matrix for the Filter\n",
    "    Af = 1 + Zser/Zsh\n",
    "    Bf = Zser\n",
    "    Cf = 2/Zsh + Zser/(Zsh**2)\n",
    "    Df = 1 + Zser/Zsh\n",
    "\n",
    "    #Total ABCD matrix\n",
    "    A = Af + Z0*Cf + Bf/Z0 + Df\n",
    "    B = Bf + Z0*Df\n",
    "    C = Cf + Df/Z0\n",
    "    D = Df\n",
    "\n",
    "    #Computing S-Parameters from ABCD Matrix using Pozar Table 4.2\n",
    "    S11 = (A + B/Z0 - C*Z0 - D) / (A + B/Z0 + C*Z0 + D)\n",
    "    S21 = 2*(A*D - B*C) / ((A+B)/Z0 + C*Z0 + D)\n",
    "\n",
    "    S11dB = 20*np.log10(abs(S11))       #S11 in dB\n",
    "    S12dB = 20*np.log10(abs(S21))       #S12 in dB\n",
    "\n",
    "    plt.plot(f, S12dB)\n",
    "    plt.grid()\n",
    "    plt.ylim([-40, 0])\n",
    "\n",
    "\n",
    "%matplotlib qt\n",
    "#BandStop3Pole(3e9, 0.1, 2e9, 4e9)\n",
    "BandStop3Pole(95e6, 0.2, 50e6, 150e6)\n"
   ]
  }
 ],
 "metadata": {
  "kernelspec": {
   "display_name": "Python 3.9.15 ('Jupyter')",
   "language": "python",
   "name": "python3"
  },
  "language_info": {
   "codemirror_mode": {
    "name": "ipython",
    "version": 3
   },
   "file_extension": ".py",
   "mimetype": "text/x-python",
   "name": "python",
   "nbconvert_exporter": "python",
   "pygments_lexer": "ipython3",
   "version": "3.9.15"
  },
  "orig_nbformat": 4,
  "vscode": {
   "interpreter": {
    "hash": "fb271b3c4007318032670f240c2be9ba2af2c8b6992e3a2bf8aab5f4c1817126"
   }
  }
 },
 "nbformat": 4,
 "nbformat_minor": 2
}
